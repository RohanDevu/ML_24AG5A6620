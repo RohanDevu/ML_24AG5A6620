{
  "nbformat": 4,
  "nbformat_minor": 0,
  "metadata": {
    "colab": {
      "provenance": [],
      "authorship_tag": "ABX9TyODBd78+kBePk62crmnDhoa",
      "include_colab_link": true
    },
    "kernelspec": {
      "name": "python3",
      "display_name": "Python 3"
    },
    "language_info": {
      "name": "python"
    }
  },
  "cells": [
    {
      "cell_type": "markdown",
      "metadata": {
        "id": "view-in-github",
        "colab_type": "text"
      },
      "source": [
        "<a href=\"https://colab.research.google.com/github/RohanDevu/ML_24AG5A6620/blob/main/statistical_measures.ipynb\" target=\"_parent\"><img src=\"https://colab.research.google.com/assets/colab-badge.svg\" alt=\"Open In Colab\"/></a>"
      ]
    },
    {
      "cell_type": "markdown",
      "source": [
        "**STATISTICAL MEASURES**"
      ],
      "metadata": {
        "id": "t9ss4x_ovOR6"
      }
    },
    {
      "cell_type": "code",
      "source": [
        "import numpy as np\n",
        "from statistics import mean, median, mode\n",
        "\n",
        "#Example data\n",
        "data = [2,4,4,4,5,5,7,9]\n",
        "\n",
        "#Central Tendency Measures\n",
        "print(\"Mean:\", mean(data))\n",
        "print(\"Median:\", median(data))\n",
        "print(\"Mode:\", mode(data))\n",
        "\n",
        "#Measures of Dispersion\n",
        "print(\"Variance:\", np.var(data))\n",
        "print(\"Standard Deviation:\", np.std(data))"
      ],
      "metadata": {
        "colab": {
          "base_uri": "https://localhost:8080/"
        },
        "id": "-Nn9CNaovqWK",
        "outputId": "400cf2ff-57c2-4aed-dc48-864189b28753"
      },
      "execution_count": 2,
      "outputs": [
        {
          "output_type": "stream",
          "name": "stdout",
          "text": [
            "Mean: 5\n",
            "Median: 4.5\n",
            "Mode: 4\n",
            "Variance: 4.0\n",
            "Standard Deviation: 2.0\n"
          ]
        }
      ]
    },
    {
      "cell_type": "markdown",
      "source": [
        "**1. Number Functions**"
      ],
      "metadata": {
        "id": "3rBUlRmTxS-r"
      }
    },
    {
      "cell_type": "code",
      "source": [
        "import math\n",
        "print(math.ceil(2.9))\n",
        "print(math.floor(12.7))\n",
        "print(math.trunc(8.9))"
      ],
      "metadata": {
        "colab": {
          "base_uri": "https://localhost:8080/"
        },
        "id": "PCoNLrBCxEt9",
        "outputId": "dd7c0bf1-2abc-4577-ae40-ecab51e8fbfc"
      },
      "execution_count": 7,
      "outputs": [
        {
          "output_type": "stream",
          "name": "stdout",
          "text": [
            "3\n",
            "12\n",
            "8\n"
          ]
        }
      ]
    },
    {
      "cell_type": "markdown",
      "source": [
        "**2. Power and Logarithmic Functions**"
      ],
      "metadata": {
        "id": "n_YYJ3vdysZk"
      }
    },
    {
      "cell_type": "code",
      "source": [
        "print(math.pow(5,3))\n",
        "print(math.sqrt(9))\n",
        "print(math.exp(5))\n",
        "print(math.log(2,2))"
      ],
      "metadata": {
        "colab": {
          "base_uri": "https://localhost:8080/"
        },
        "id": "OxOBENHty54z",
        "outputId": "c628d2d5-3baf-4a88-c449-454fe7b4c252"
      },
      "execution_count": 10,
      "outputs": [
        {
          "output_type": "stream",
          "name": "stdout",
          "text": [
            "125.0\n",
            "3.0\n",
            "148.4131591025766\n",
            "1.0\n"
          ]
        }
      ]
    },
    {
      "cell_type": "markdown",
      "source": [
        "**3. Trignometric Functions**"
      ],
      "metadata": {
        "id": "XokXBvekziSr"
      }
    },
    {
      "cell_type": "code",
      "source": [
        "print(math.sin(math.pi/8))\n",
        "print(math.cos(45))\n",
        "print(math.tan(math.pi/4))\n",
        "\n",
        "print(math.radians(60))\n",
        "print(math.degrees(math.pi))"
      ],
      "metadata": {
        "colab": {
          "base_uri": "https://localhost:8080/"
        },
        "id": "jrrhZTbPzwp8",
        "outputId": "8917c695-f419-41df-e4a7-dc79f289f594"
      },
      "execution_count": 20,
      "outputs": [
        {
          "output_type": "stream",
          "name": "stdout",
          "text": [
            "0.3826834323650898\n",
            "0.5253219888177297\n",
            "0.9999999999999999\n",
            "1.0471975511965976\n",
            "180.0\n"
          ]
        }
      ]
    },
    {
      "cell_type": "markdown",
      "source": [
        "**4. Special Functions**"
      ],
      "metadata": {
        "id": "cPeWGVIB00a0"
      }
    },
    {
      "cell_type": "code",
      "source": [
        "print(math.factorial(6))\n",
        "print(math.gcd(5,125))\n",
        "print(math.fabs(-8.55))"
      ],
      "metadata": {
        "colab": {
          "base_uri": "https://localhost:8080/"
        },
        "id": "Ll-BTdep05Pr",
        "outputId": "390f31ec-b5c0-457a-da17-1e6c0c16e716"
      },
      "execution_count": 27,
      "outputs": [
        {
          "output_type": "stream",
          "name": "stdout",
          "text": [
            "720\n",
            "5\n",
            "8.55\n"
          ]
        }
      ]
    },
    {
      "cell_type": "markdown",
      "source": [
        "**5. Constants**"
      ],
      "metadata": {
        "id": "HeCgjODE1c-0"
      }
    },
    {
      "cell_type": "code",
      "source": [
        "print(math.pi)\n",
        "print(math.e)"
      ],
      "metadata": {
        "colab": {
          "base_uri": "https://localhost:8080/"
        },
        "id": "TBJgUdXh1gnT",
        "outputId": "75d80173-cee9-4fdb-c30c-a36fc5e4616a"
      },
      "execution_count": 29,
      "outputs": [
        {
          "output_type": "stream",
          "name": "stdout",
          "text": [
            "3.141592653589793\n",
            "2.718281828459045\n"
          ]
        }
      ]
    }
  ]
}