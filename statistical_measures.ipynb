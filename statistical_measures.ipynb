{
  "nbformat": 4,
  "nbformat_minor": 0,
  "metadata": {
    "colab": {
      "provenance": [],
      "authorship_tag": "ABX9TyMp+dIEu0M+1rAcX6N9/91C",
      "include_colab_link": true
    },
    "kernelspec": {
      "name": "python3",
      "display_name": "Python 3"
    },
    "language_info": {
      "name": "python"
    }
  },
  "cells": [
    {
      "cell_type": "markdown",
      "metadata": {
        "id": "view-in-github",
        "colab_type": "text"
      },
      "source": [
        "<a href=\"https://colab.research.google.com/github/RohanDevu/ML_24AG5A6620/blob/main/statistical_measures.ipynb\" target=\"_parent\"><img src=\"https://colab.research.google.com/assets/colab-badge.svg\" alt=\"Open In Colab\"/></a>"
      ]
    },
    {
      "cell_type": "markdown",
      "source": [
        "**STATISTICAL MEASURES**"
      ],
      "metadata": {
        "id": "t9ss4x_ovOR6"
      }
    },
    {
      "cell_type": "code",
      "source": [
        "import numpy as np\n",
        "from statistics import mean, median, mode\n",
        "\n",
        "#Example data\n",
        "data = [2,4,4,4,5,5,7,9]\n",
        "\n",
        "#Central Tendency Measures\n",
        "print(\"Mean:\", mean(data))\n",
        "print(\"Median:\", median(data))\n",
        "print(\"Mode:\", mode(data))\n",
        "\n",
        "#Measures of Dispersion\n",
        "print(\"Variance:\", np.var(data))\n",
        "print(\"Standard Deviation:\", np.std(data))"
      ],
      "metadata": {
        "colab": {
          "base_uri": "https://localhost:8080/"
        },
        "id": "-Nn9CNaovqWK",
        "outputId": "400cf2ff-57c2-4aed-dc48-864189b28753"
      },
      "execution_count": 2,
      "outputs": [
        {
          "output_type": "stream",
          "name": "stdout",
          "text": [
            "Mean: 5\n",
            "Median: 4.5\n",
            "Mode: 4\n",
            "Variance: 4.0\n",
            "Standard Deviation: 2.0\n"
          ]
        }
      ]
    },
    {
      "cell_type": "markdown",
      "source": [
        "**1. Number Functions**"
      ],
      "metadata": {
        "id": "3rBUlRmTxS-r"
      }
    },
    {
      "cell_type": "code",
      "source": [
        "import math\n",
        "print(math.ceil(2.9))\n",
        "print(math.floor(12.7))\n",
        "print(math.trunc(8.9))"
      ],
      "metadata": {
        "colab": {
          "base_uri": "https://localhost:8080/"
        },
        "id": "PCoNLrBCxEt9",
        "outputId": "dd7c0bf1-2abc-4577-ae40-ecab51e8fbfc"
      },
      "execution_count": 7,
      "outputs": [
        {
          "output_type": "stream",
          "name": "stdout",
          "text": [
            "3\n",
            "12\n",
            "8\n"
          ]
        }
      ]
    },
    {
      "cell_type": "markdown",
      "source": [
        "**2. Power and Logarithmic Functions**"
      ],
      "metadata": {
        "id": "n_YYJ3vdysZk"
      }
    },
    {
      "cell_type": "code",
      "source": [
        "print(math.pow(5,3))\n",
        "print(math.sqrt(9))\n",
        "print(math.exp(5))\n",
        "print(math.log(2,2))"
      ],
      "metadata": {
        "colab": {
          "base_uri": "https://localhost:8080/"
        },
        "id": "OxOBENHty54z",
        "outputId": "c628d2d5-3baf-4a88-c449-454fe7b4c252"
      },
      "execution_count": 10,
      "outputs": [
        {
          "output_type": "stream",
          "name": "stdout",
          "text": [
            "125.0\n",
            "3.0\n",
            "148.4131591025766\n",
            "1.0\n"
          ]
        }
      ]
    },
    {
      "cell_type": "markdown",
      "source": [
        "**3. Trignometric Functions**"
      ],
      "metadata": {
        "id": "XokXBvekziSr"
      }
    },
    {
      "cell_type": "code",
      "source": [
        "print(math.sin(math.pi/8))\n",
        "print(math.cos(45))\n",
        "print(math.tan(math.pi/4))\n",
        "\n",
        "print(math.radians(60))\n",
        "print(math.degrees(math.pi))"
      ],
      "metadata": {
        "colab": {
          "base_uri": "https://localhost:8080/"
        },
        "id": "jrrhZTbPzwp8",
        "outputId": "8917c695-f419-41df-e4a7-dc79f289f594"
      },
      "execution_count": 20,
      "outputs": [
        {
          "output_type": "stream",
          "name": "stdout",
          "text": [
            "0.3826834323650898\n",
            "0.5253219888177297\n",
            "0.9999999999999999\n",
            "1.0471975511965976\n",
            "180.0\n"
          ]
        }
      ]
    },
    {
      "cell_type": "markdown",
      "source": [
        "**4. Special Functions**"
      ],
      "metadata": {
        "id": "cPeWGVIB00a0"
      }
    },
    {
      "cell_type": "code",
      "source": [
        "print(math.factorial(6))\n",
        "print(math.gcd(5,125))\n",
        "print(math.fabs(-8.55))"
      ],
      "metadata": {
        "colab": {
          "base_uri": "https://localhost:8080/"
        },
        "id": "Ll-BTdep05Pr",
        "outputId": "390f31ec-b5c0-457a-da17-1e6c0c16e716"
      },
      "execution_count": 27,
      "outputs": [
        {
          "output_type": "stream",
          "name": "stdout",
          "text": [
            "720\n",
            "5\n",
            "8.55\n"
          ]
        }
      ]
    },
    {
      "cell_type": "markdown",
      "source": [
        "**5. Constants**"
      ],
      "metadata": {
        "id": "HeCgjODE1c-0"
      }
    },
    {
      "cell_type": "code",
      "source": [
        "print(math.pi)\n",
        "print(math.e)"
      ],
      "metadata": {
        "colab": {
          "base_uri": "https://localhost:8080/"
        },
        "id": "TBJgUdXh1gnT",
        "outputId": "75d80173-cee9-4fdb-c30c-a36fc5e4616a"
      },
      "execution_count": 29,
      "outputs": [
        {
          "output_type": "stream",
          "name": "stdout",
          "text": [
            "3.141592653589793\n",
            "2.718281828459045\n"
          ]
        }
      ]
    },
    {
      "cell_type": "markdown",
      "source": [
        "**SciPy**"
      ],
      "metadata": {
        "id": "q2Y-dLBYc1yV"
      }
    },
    {
      "cell_type": "code",
      "source": [
        "#print hte constant value of pi:\n",
        "from scipy import constants\n",
        "\n",
        "print(constants.pi)\n",
        "\n",
        "print(constants.yotta)\n",
        "print(constants.zetta)\n",
        "print(constants.exa)\n",
        "print(constants.peta)\n",
        "print(constants.tera)\n",
        "print(constants.giga)\n",
        "print(constants.mega)\n",
        "print(constants.kilo)\n",
        "print(constants.hecto)\n",
        "print(constants.deka)\n",
        "print(constants.deci)\n",
        "print(constants.centi)\n",
        "print(constants.milli)\n",
        "print(constants.micro)\n",
        "print(constants.nano)\n",
        "print(constants.pico)\n",
        "print(constants.femto)\n",
        "print(constants.atto)\n",
        "print(constants.zepto)"
      ],
      "metadata": {
        "colab": {
          "base_uri": "https://localhost:8080/"
        },
        "id": "2V2hlz0Dc8rQ",
        "outputId": "b26d9049-39f2-495a-976f-7f5a89731078"
      },
      "execution_count": 32,
      "outputs": [
        {
          "output_type": "stream",
          "name": "stdout",
          "text": [
            "3.141592653589793\n",
            "1e+24\n",
            "1e+21\n",
            "1e+18\n",
            "1000000000000000.0\n",
            "1000000000000.0\n",
            "1000000000.0\n",
            "1000000.0\n",
            "1000.0\n",
            "100.0\n",
            "10.0\n",
            "0.1\n",
            "0.01\n",
            "0.001\n",
            "1e-06\n",
            "1e-09\n",
            "1e-12\n",
            "1e-15\n",
            "1e-18\n",
            "1e-21\n"
          ]
        }
      ]
    },
    {
      "cell_type": "code",
      "source": [
        "#Binary Prefixes:\n",
        "#Return the specified unit in bytes (e.g. kibi returns 1024)\n",
        "\n",
        "print(constants.kibi)\n",
        "print(constants.mebi)\n",
        "print(constants.gibi)\n",
        "print(constants.tebi)\n",
        "print(constants.pebi)\n",
        "print(constants.exbi)\n",
        "print(constants.zebi)\n",
        "print(constants.yobi)"
      ],
      "metadata": {
        "colab": {
          "base_uri": "https://localhost:8080/"
        },
        "id": "m-N970YyecB5",
        "outputId": "e09b4343-ed81-44b1-eec5-8a43a927ae0e"
      },
      "execution_count": 33,
      "outputs": [
        {
          "output_type": "stream",
          "name": "stdout",
          "text": [
            "1024\n",
            "1048576\n",
            "1073741824\n",
            "1099511627776\n",
            "1125899906842624\n",
            "1152921504606846976\n",
            "1180591620717411303424\n",
            "1208925819614629174706176\n"
          ]
        }
      ]
    },
    {
      "cell_type": "code",
      "source": [
        "#Connected Components\n",
        "#Find all of the connected components with the connected() method.\n",
        "\n",
        "import numpy as np\n",
        "from scipy.sparse.csgraph import connected_components\n",
        "from scipy.sparse import csr_matrix\n",
        "\n",
        "arr = np.array([\n",
        "    [0, 1, 2],\n",
        "    [1, 0, 0],\n",
        "    [2, 0, 0]\n",
        "])\n",
        "newarr = csr_matrix(arr)\n",
        "print(connected_components(newarr))"
      ],
      "metadata": {
        "colab": {
          "base_uri": "https://localhost:8080/"
        },
        "id": "bjzDw0Ypeymg",
        "outputId": "2fbb47d2-3f2b-4b7d-c41c-d27a513de2a9"
      },
      "execution_count": 34,
      "outputs": [
        {
          "output_type": "stream",
          "name": "stdout",
          "text": [
            "(1, array([0, 0, 0], dtype=int32))\n"
          ]
        }
      ]
    },
    {
      "cell_type": "markdown",
      "source": [
        "**Dijkstra**"
      ],
      "metadata": {
        "id": "13oAcHSSgTcp"
      }
    },
    {
      "cell_type": "code",
      "source": [
        "#Find the shortest path from element 1 to 2:\n",
        "\n",
        "import numpy as np\n",
        "from scipy.sparse.csgraph import dijkstra\n",
        "from scipy.sparse import csr_matrix\n",
        "\n",
        "arr = np.array([\n",
        "    [0, 1, 2],\n",
        "    [1, 0, 0],\n",
        "    [2, 0, 0]\n",
        "])\n",
        "\n",
        "newarr = csr_matrix(arr)\n",
        "print(dijkstra(newarr, return_predecessors=True, indices=0))"
      ],
      "metadata": {
        "colab": {
          "base_uri": "https://localhost:8080/"
        },
        "id": "yoP7t0P0gWtw",
        "outputId": "bf4ecb50-e89f-4749-971b-bbc68126fee3"
      },
      "execution_count": 35,
      "outputs": [
        {
          "output_type": "stream",
          "name": "stdout",
          "text": [
            "(array([0., 1., 2.]), array([-9999,     0,     0], dtype=int32))\n"
          ]
        }
      ]
    },
    {
      "cell_type": "code",
      "source": [
        "#Floyd Warshall\n",
        "#Use the floyd_warshall() method to find shortest path between all pairs of elements.\n",
        "\n",
        "#Find the shortest path between all pairs of elements:\n",
        "import numpy as np\n",
        "from scipy.sparse.csgraph import floyd_warshall\n",
        "from scipy.sparse import csr_matrix\n",
        "\n",
        "arr = np.array([\n",
        "    [0, 1, 2],\n",
        "    [1, 0, 0],\n",
        "    [2, 0, 0]\n",
        "])\n",
        "\n",
        "newarr = csr_matrix(arr)\n",
        "print(floyd_warshall(newarr, return_predecessors=True))"
      ],
      "metadata": {
        "colab": {
          "base_uri": "https://localhost:8080/"
        },
        "id": "uGimTHC8hTlh",
        "outputId": "342c2d0c-9547-4358-91bf-4fa75b4e522f"
      },
      "execution_count": 36,
      "outputs": [
        {
          "output_type": "stream",
          "name": "stdout",
          "text": [
            "(array([[0., 1., 2.],\n",
            "       [1., 0., 3.],\n",
            "       [2., 3., 0.]]), array([[-9999,     0,     0],\n",
            "       [    1, -9999,     0],\n",
            "       [    2,     0, -9999]], dtype=int32))\n"
          ]
        }
      ]
    },
    {
      "cell_type": "code",
      "source": [
        "#Bellman Ford\n",
        "#The bellman_ford() method can also find the shortest path between all pairs of elements, but this method can handle negaitve weights as well.\n",
        "\n",
        "#Find shortest path from element 1 to 2 with given graph with a negative weight:\n",
        "\n",
        "import numpy as np\n",
        "from scipy.sparse.csgraph import bellman_ford\n",
        "from scipy.sparse import csr_matrix\n",
        "\n",
        "arr = np.array([\n",
        "    [0, 1, 2],\n",
        "    [1, 0, 0],\n",
        "    [2, 0, 0]\n",
        "])\n",
        "\n",
        "newarr = csr_matrix(arr)\n",
        "print(bellman_ford(newarr, return_predecessors=True, indices=0))"
      ],
      "metadata": {
        "colab": {
          "base_uri": "https://localhost:8080/"
        },
        "id": "pmfIEUfbib5c",
        "outputId": "0fe8c0a9-d274-4220-d54f-fc53dbc585e7"
      },
      "execution_count": 37,
      "outputs": [
        {
          "output_type": "stream",
          "name": "stdout",
          "text": [
            "(array([0., 1., 2.]), array([-9999,     0,     0], dtype=int32))\n"
          ]
        }
      ]
    }
  ]
}