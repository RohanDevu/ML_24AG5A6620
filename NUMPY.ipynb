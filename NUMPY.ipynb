{
  "nbformat": 4,
  "nbformat_minor": 0,
  "metadata": {
    "colab": {
      "provenance": [],
      "authorship_tag": "ABX9TyPdtlvF1pdrCmj84f8Ez5fG",
      "include_colab_link": true
    },
    "kernelspec": {
      "name": "python3",
      "display_name": "Python 3"
    },
    "language_info": {
      "name": "python"
    }
  },
  "cells": [
    {
      "cell_type": "markdown",
      "metadata": {
        "id": "view-in-github",
        "colab_type": "text"
      },
      "source": [
        "<a href=\"https://colab.research.google.com/github/RohanDevu/ML_24AG5A6620/blob/main/NUMPY.ipynb\" target=\"_parent\"><img src=\"https://colab.research.google.com/assets/colab-badge.svg\" alt=\"Open In Colab\"/></a>"
      ]
    },
    {
      "cell_type": "code",
      "execution_count": 2,
      "metadata": {
        "colab": {
          "base_uri": "https://localhost:8080/"
        },
        "id": "3FhYZ_pV8VKj",
        "outputId": "9ec92b03-31f1-4916-a5f1-1715e9f32799"
      },
      "outputs": [
        {
          "output_type": "stream",
          "name": "stdout",
          "text": [
            "Hello Rohan\n"
          ]
        }
      ],
      "source": [
        "print(\"Hello Rohan\")"
      ]
    },
    {
      "cell_type": "code",
      "source": [
        "import numpy as np"
      ],
      "metadata": {
        "id": "uthlI9hZCABK"
      },
      "execution_count": 3,
      "outputs": []
    },
    {
      "cell_type": "markdown",
      "source": [
        "CREATING 1D ARRAY"
      ],
      "metadata": {
        "id": "gTJgUH-cHGvq"
      }
    },
    {
      "cell_type": "code",
      "source": [
        "list1=[2,4,6,8]\n",
        "array1=np.array(list1)\n",
        "print(array1)"
      ],
      "metadata": {
        "colab": {
          "base_uri": "https://localhost:8080/"
        },
        "id": "GJteI_lWCIDi",
        "outputId": "5ddeb43b-dfb7-4c8d-cc83-1ac4ac520cce"
      },
      "execution_count": 5,
      "outputs": [
        {
          "output_type": "stream",
          "name": "stdout",
          "text": [
            "[2 4 6 8]\n"
          ]
        }
      ]
    },
    {
      "cell_type": "markdown",
      "source": [
        "CREATING 2D ARRAY"
      ],
      "metadata": {
        "id": "uE6SGSWFHM8Y"
      }
    },
    {
      "cell_type": "code",
      "source": [
        "list1=([1,2,3,4],\n",
        "           [5,6,7,8])\n",
        "array2 = np.array(list1)\n",
        "print(array2)"
      ],
      "metadata": {
        "colab": {
          "base_uri": "https://localhost:8080/"
        },
        "id": "1UceRnJGCcCT",
        "outputId": "c630eda0-92ce-47fe-e729-dfb850506faa"
      },
      "execution_count": 9,
      "outputs": [
        {
          "output_type": "stream",
          "name": "stdout",
          "text": [
            "[[1 2 3 4]\n",
            " [5 6 7 8]]\n"
          ]
        }
      ]
    },
    {
      "cell_type": "markdown",
      "source": [
        "CREATING 3D ARRAY"
      ],
      "metadata": {
        "id": "q1X76rN6HRS5"
      }
    },
    {
      "cell_type": "code",
      "source": [
        "array3 = np.array([[[1,2,3,4],\n",
        "                    [5,6,7,8],\n",
        "                    [9,10,11,12]],\n",
        "\n",
        "                 [[13,14,15,16],\n",
        "                  [17,18,19,20],\n",
        "                  [21,22,23,24]]])\n",
        "\n",
        "print(array3)"
      ],
      "metadata": {
        "colab": {
          "base_uri": "https://localhost:8080/"
        },
        "id": "1IL4xFLCD2Hj",
        "outputId": "e7385df9-f35d-4b4e-e021-0b4c87c08d10"
      },
      "execution_count": 18,
      "outputs": [
        {
          "output_type": "stream",
          "name": "stdout",
          "text": [
            "[[[ 1  2  3  4]\n",
            "  [ 5  6  7  8]\n",
            "  [ 9 10 11 12]]\n",
            "\n",
            " [[13 14 15 16]\n",
            "  [17 18 19 20]\n",
            "  [21 22 23 24]]]\n"
          ]
        }
      ]
    },
    {
      "cell_type": "markdown",
      "source": [
        "USING ATTRIBUTES"
      ],
      "metadata": {
        "id": "2s-mjahHHVH4"
      }
    },
    {
      "cell_type": "markdown",
      "source": [
        "Finding the Datatype of the Arrays"
      ],
      "metadata": {
        "id": "AkVoIT9EHtGp"
      }
    },
    {
      "cell_type": "code",
      "source": [
        "print(array1.dtype)"
      ],
      "metadata": {
        "colab": {
          "base_uri": "https://localhost:8080/"
        },
        "id": "zrDWOsVpHb3z",
        "outputId": "66ac1ac7-5992-4f33-a6a2-042924ff6d98"
      },
      "execution_count": 25,
      "outputs": [
        {
          "output_type": "stream",
          "name": "stdout",
          "text": [
            "int64\n"
          ]
        }
      ]
    },
    {
      "cell_type": "code",
      "source": [
        "print(array2.dtype)"
      ],
      "metadata": {
        "colab": {
          "base_uri": "https://localhost:8080/"
        },
        "id": "-Wd1uGLOHnbB",
        "outputId": "4c4b1e45-353e-4baf-bb1a-5b179c5982c3"
      },
      "execution_count": 20,
      "outputs": [
        {
          "output_type": "stream",
          "name": "stdout",
          "text": [
            "int64\n"
          ]
        }
      ]
    },
    {
      "cell_type": "code",
      "source": [
        "print(array3.dtype)"
      ],
      "metadata": {
        "colab": {
          "base_uri": "https://localhost:8080/"
        },
        "id": "IOzGEFhyHoCg",
        "outputId": "9c2128ce-876b-46b1-ef70-78c3a63e0e1c"
      },
      "execution_count": 21,
      "outputs": [
        {
          "output_type": "stream",
          "name": "stdout",
          "text": [
            "int64\n"
          ]
        }
      ]
    },
    {
      "cell_type": "markdown",
      "source": [
        "Finding the Dimensions of the Arrays"
      ],
      "metadata": {
        "id": "euk9d2pfHxkT"
      }
    },
    {
      "cell_type": "code",
      "source": [
        "print(array1.ndim)"
      ],
      "metadata": {
        "colab": {
          "base_uri": "https://localhost:8080/"
        },
        "id": "jdIFX7Z-IDPh",
        "outputId": "d114c9bf-12d4-4c6c-d76c-700d2c5540e7"
      },
      "execution_count": 22,
      "outputs": [
        {
          "output_type": "stream",
          "name": "stdout",
          "text": [
            "1\n"
          ]
        }
      ]
    },
    {
      "cell_type": "code",
      "source": [
        "print(array2.ndim)"
      ],
      "metadata": {
        "colab": {
          "base_uri": "https://localhost:8080/"
        },
        "id": "NxbDf4ijIJMC",
        "outputId": "dbf8cb5d-3a82-43ba-fd03-2270af16b8e5"
      },
      "execution_count": 23,
      "outputs": [
        {
          "output_type": "stream",
          "name": "stdout",
          "text": [
            "2\n"
          ]
        }
      ]
    },
    {
      "cell_type": "code",
      "source": [
        "print(array3.ndim)"
      ],
      "metadata": {
        "colab": {
          "base_uri": "https://localhost:8080/"
        },
        "id": "rBICnkfmIJwy",
        "outputId": "e1c3a775-64a5-4cf2-afdd-e728d73e5df8"
      },
      "execution_count": 24,
      "outputs": [
        {
          "output_type": "stream",
          "name": "stdout",
          "text": [
            "3\n"
          ]
        }
      ]
    },
    {
      "cell_type": "markdown",
      "source": [
        "Finding the Size of the Arrays"
      ],
      "metadata": {
        "id": "3R5QKbTgI0CP"
      }
    },
    {
      "cell_type": "code",
      "source": [
        "print(array1.size)"
      ],
      "metadata": {
        "colab": {
          "base_uri": "https://localhost:8080/"
        },
        "id": "ZKk7VgUkI88T",
        "outputId": "2a9e5eeb-85c5-4ae2-cf09-5e5e8223b6ec"
      },
      "execution_count": 26,
      "outputs": [
        {
          "output_type": "stream",
          "name": "stdout",
          "text": [
            "4\n"
          ]
        }
      ]
    },
    {
      "cell_type": "code",
      "source": [
        "print(array2.size)"
      ],
      "metadata": {
        "colab": {
          "base_uri": "https://localhost:8080/"
        },
        "id": "ieSbXW2wJiMq",
        "outputId": "0483a44e-ac53-4284-cb08-9d7bea85e75d"
      },
      "execution_count": 27,
      "outputs": [
        {
          "output_type": "stream",
          "name": "stdout",
          "text": [
            "8\n"
          ]
        }
      ]
    },
    {
      "cell_type": "code",
      "source": [
        "print(array3.size)"
      ],
      "metadata": {
        "colab": {
          "base_uri": "https://localhost:8080/"
        },
        "id": "cgkVIsPdJipJ",
        "outputId": "e4897c88-a19d-4fbb-ab3a-74f10c44fa65"
      },
      "execution_count": 28,
      "outputs": [
        {
          "output_type": "stream",
          "name": "stdout",
          "text": [
            "24\n"
          ]
        }
      ]
    },
    {
      "cell_type": "markdown",
      "source": [
        "Finding the Shape of the Arrays"
      ],
      "metadata": {
        "id": "1T3f-PIuJoJI"
      }
    },
    {
      "cell_type": "code",
      "source": [
        "print(array3.shape)"
      ],
      "metadata": {
        "colab": {
          "base_uri": "https://localhost:8080/"
        },
        "id": "P_iQnODrJyqp",
        "outputId": "7adf7002-e6bf-4fe9-a6a9-bc761aaeb52f"
      },
      "execution_count": 29,
      "outputs": [
        {
          "output_type": "stream",
          "name": "stdout",
          "text": [
            "(2, 3, 4)\n"
          ]
        }
      ]
    },
    {
      "cell_type": "code",
      "source": [
        "print(array2.shape)"
      ],
      "metadata": {
        "colab": {
          "base_uri": "https://localhost:8080/"
        },
        "id": "gq-HJDqtJzIh",
        "outputId": "45b44f6b-dbbf-4e65-8da6-2e1a7ef4d4b3"
      },
      "execution_count": 30,
      "outputs": [
        {
          "output_type": "stream",
          "name": "stdout",
          "text": [
            "(2, 4)\n"
          ]
        }
      ]
    },
    {
      "cell_type": "code",
      "source": [
        "print(array3.shape)"
      ],
      "metadata": {
        "colab": {
          "base_uri": "https://localhost:8080/"
        },
        "id": "0RIvEO3GJy5Q",
        "outputId": "34709c01-3ca3-4863-e88d-f76e36cc923f"
      },
      "execution_count": 31,
      "outputs": [
        {
          "output_type": "stream",
          "name": "stdout",
          "text": [
            "(2, 3, 4)\n"
          ]
        }
      ]
    },
    {
      "cell_type": "markdown",
      "source": [
        "Finding the Itemsize of the Arrays"
      ],
      "metadata": {
        "id": "qRxROXiVKEQJ"
      }
    },
    {
      "cell_type": "code",
      "source": [
        "print(array1.itemsize)"
      ],
      "metadata": {
        "colab": {
          "base_uri": "https://localhost:8080/"
        },
        "id": "zcMO5jUfKJRj",
        "outputId": "8b31bb21-ba19-47d2-d07a-82140f8dd19a"
      },
      "execution_count": 35,
      "outputs": [
        {
          "output_type": "stream",
          "name": "stdout",
          "text": [
            "8\n"
          ]
        }
      ]
    },
    {
      "cell_type": "code",
      "source": [
        "print(array2.itemsize)"
      ],
      "metadata": {
        "colab": {
          "base_uri": "https://localhost:8080/"
        },
        "id": "cC2zB0TrKJ_j",
        "outputId": "7119ff75-6f8b-4f06-f149-cfd42be847dd"
      },
      "execution_count": 37,
      "outputs": [
        {
          "output_type": "stream",
          "name": "stdout",
          "text": [
            "8\n"
          ]
        }
      ]
    },
    {
      "cell_type": "code",
      "source": [
        "print(array3.itemsize)"
      ],
      "metadata": {
        "colab": {
          "base_uri": "https://localhost:8080/"
        },
        "id": "CouE9xH-KJnh",
        "outputId": "ff0deb6a-5ccd-4fee-b127-443e2fd1e7e0"
      },
      "execution_count": 38,
      "outputs": [
        {
          "output_type": "stream",
          "name": "stdout",
          "text": [
            "8\n"
          ]
        }
      ]
    },
    {
      "cell_type": "markdown",
      "source": [
        "Finding the Data of the Arrays"
      ],
      "metadata": {
        "id": "e8rDHKQxKrbb"
      }
    },
    {
      "cell_type": "code",
      "source": [
        "print(array1.data)"
      ],
      "metadata": {
        "colab": {
          "base_uri": "https://localhost:8080/"
        },
        "id": "s-3Al00QKvzx",
        "outputId": "6965a75e-fb38-43a7-d128-f529c5299577"
      },
      "execution_count": 39,
      "outputs": [
        {
          "output_type": "stream",
          "name": "stdout",
          "text": [
            "<memory at 0x7fa4029bdcc0>\n"
          ]
        }
      ]
    },
    {
      "cell_type": "code",
      "source": [
        "print(array2.data)"
      ],
      "metadata": {
        "colab": {
          "base_uri": "https://localhost:8080/"
        },
        "id": "JVTsaAozKwfK",
        "outputId": "6acf6434-8ce4-4ecc-b000-b9b2424ecc5f"
      },
      "execution_count": 40,
      "outputs": [
        {
          "output_type": "stream",
          "name": "stdout",
          "text": [
            "<memory at 0x7fa3b0c468e0>\n"
          ]
        }
      ]
    },
    {
      "cell_type": "code",
      "source": [
        "print(array3.data)"
      ],
      "metadata": {
        "colab": {
          "base_uri": "https://localhost:8080/"
        },
        "id": "W0UXorDAKwOA",
        "outputId": "86152456-735c-4203-8aba-8f60f17792e7"
      },
      "execution_count": 41,
      "outputs": [
        {
          "output_type": "stream",
          "name": "stdout",
          "text": [
            "<memory at 0x7fa3afe655d0>\n"
          ]
        }
      ]
    },
    {
      "cell_type": "markdown",
      "source": [
        "Finding the Mean of the Arrays"
      ],
      "metadata": {
        "id": "D6SzlpIxLPvH"
      }
    },
    {
      "cell_type": "code",
      "source": [
        "marks = np.array([76,78,81,95,69])\n",
        "mean_marks = np.mean(marks)\n",
        "print(mean_marks)"
      ],
      "metadata": {
        "colab": {
          "base_uri": "https://localhost:8080/"
        },
        "id": "jD4O3pstLm7S",
        "outputId": "8f580ab6-081c-41d2-d689-d404fd1b4f08"
      },
      "execution_count": 43,
      "outputs": [
        {
          "output_type": "stream",
          "name": "stdout",
          "text": [
            "79.8\n"
          ]
        }
      ]
    },
    {
      "cell_type": "markdown",
      "source": [
        "Finding the Deviation of the Arrays"
      ],
      "metadata": {
        "id": "pZ9HYuvAMqOT"
      }
    },
    {
      "cell_type": "code",
      "source": [
        "marks = np.array([76,78,81,95,69])\n",
        "std_marks = np.std(marks)\n",
        "print(std_marks)"
      ],
      "metadata": {
        "colab": {
          "base_uri": "https://localhost:8080/"
        },
        "id": "JhtMD-JnLoDJ",
        "outputId": "096471ff-c39b-43cc-8bf8-466e39000856"
      },
      "execution_count": 44,
      "outputs": [
        {
          "output_type": "stream",
          "name": "stdout",
          "text": [
            "8.565045242145542\n"
          ]
        }
      ]
    },
    {
      "cell_type": "markdown",
      "source": [
        "Finding the Minimum Percentile of the Arrays"
      ],
      "metadata": {
        "id": "4QDfCV6zM9B6"
      }
    },
    {
      "cell_type": "code",
      "source": [
        "marks = np.array([76,78,81,95,69])\n",
        "std_marks = np.min(marks)\n",
        "print(std_marks)"
      ],
      "metadata": {
        "colab": {
          "base_uri": "https://localhost:8080/"
        },
        "id": "UoX2Dn33NDGC",
        "outputId": "71129627-3485-4063-95dc-237e74cfde74"
      },
      "execution_count": 45,
      "outputs": [
        {
          "output_type": "stream",
          "name": "stdout",
          "text": [
            "69\n"
          ]
        }
      ]
    },
    {
      "cell_type": "markdown",
      "source": [
        "Finding the Maximum Percentile of the Arrays"
      ],
      "metadata": {
        "id": "D4aQsWohNZwY"
      }
    },
    {
      "cell_type": "code",
      "source": [
        "marks = np.array([76,78,81,95,69])\n",
        "std_marks = np.max(marks)\n",
        "print(std_marks)"
      ],
      "metadata": {
        "colab": {
          "base_uri": "https://localhost:8080/"
        },
        "id": "BetP_c4iNgkY",
        "outputId": "f31b8cc7-cbfa-4ba3-9b1e-1a84d45f2093"
      },
      "execution_count": 46,
      "outputs": [
        {
          "output_type": "stream",
          "name": "stdout",
          "text": [
            "95\n"
          ]
        }
      ]
    }
  ]
}